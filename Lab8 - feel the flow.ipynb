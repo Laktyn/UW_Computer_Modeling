{
 "cells": [
  {
   "cell_type": "code",
   "execution_count": 1,
   "metadata": {},
   "outputs": [],
   "source": [
    "import numpy as np\n",
    "import matplotlib.pyplot as plt"
   ]
  },
  {
   "cell_type": "code",
   "execution_count": 11,
   "metadata": {},
   "outputs": [],
   "source": [
    "# constant & stuff\n",
    "\n",
    "W = np.array([4/9, 1/9, 1/9, 1/9, 1/9, 1/36, 1/36, 1/36, 1/36])\n",
    "e = np.array([[0,0], [1,0], [0,1], [-1,0], [0,-1], [1,1], [-1,1], [-1,-1], [1,-1]])\n",
    "\n",
    "N_x = 520\n",
    "N_y = 180\n",
    "u_in = 0.04\n",
    "eps = 0.0001\n",
    "Re = 1000\n",
    "v_lb = u_in*(N_y/2)/Re\n",
    "tau = 3*v_lb +1/2\n",
    "\n",
    "# equilibrium flow function - what? why? nobody knows \n",
    "\n",
    "def flow_eq(velo, dens):\n",
    "    return np.array([W[i]*dens*(1 + 3*(velo[0]*e[i][0] + velo[1]*e[i][1]) + 9/2*((velo[0]*e[i][0])**2 + (velo[0]*e[i][0])**2) - 3/2*(velo[0]**2 + velo[1]**2)) for i in range(9)])\n",
    "\n",
    "# ok, so we declare array of 2D velocities in every point of board\n",
    "# that velocity is mean macroscopic velocity in that point\n",
    "\n",
    "velocities = np.empty([N_x, N_y, 2])\n",
    "velocities[:, :, 1] = 0\n",
    "for y in range(N_y):\n",
    "    velocities[:, y, 0] = u_in*(1 + eps*(np.sin(2*np.pi*y/(N_y-1))))\n",
    "\n",
    "# now, we declare array of local 1D densities in every point of board\n",
    "# macroscopic densities\n",
    "\n",
    "density = np.ones([N_x, N_y])\n",
    "\n",
    "# very cool, now declare array of 9D densities of flow \n",
    "# each flow is microscopic fraction of particles travelling in i direction\n",
    "\n",
    "flow = np.empty([N_x, N_y, 9])\n",
    "for x in range(N_x):\n",
    "    for y in range(N_y):\n",
    "        flow[x, y, :] = flow_eq(velo = velocities[x, y, :], dens = density[x, y])\n",
    "\n"
   ]
  }
 ],
 "metadata": {
  "kernelspec": {
   "display_name": "Python 3",
   "language": "python",
   "name": "python3"
  },
  "language_info": {
   "codemirror_mode": {
    "name": "ipython",
    "version": 3
   },
   "file_extension": ".py",
   "mimetype": "text/x-python",
   "name": "python",
   "nbconvert_exporter": "python",
   "pygments_lexer": "ipython3",
   "version": "3.10.10"
  },
  "orig_nbformat": 4
 },
 "nbformat": 4,
 "nbformat_minor": 2
}
