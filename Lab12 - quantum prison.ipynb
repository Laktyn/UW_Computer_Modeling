{
 "cells": [
  {
   "attachments": {},
   "cell_type": "markdown",
   "metadata": {},
   "source": [
    "# Task 1 - quantum coin"
   ]
  },
  {
   "cell_type": "code",
   "execution_count": 63,
   "metadata": {},
   "outputs": [
    {
     "data": {
      "text/html": [
       "<pre style=\"word-wrap: normal;white-space: pre;background: #fff0;line-height: 1.1;font-family: &quot;Courier New&quot;,Courier,monospace\">       ┌───┐┌─┐\n",
       "qubit: ┤ H ├┤M├\n",
       "       └───┘└╥┘\n",
       "bit: 1/══════╩═\n",
       "             0 </pre>"
      ],
      "text/plain": [
       "       ┌───┐┌─┐\n",
       "qubit: ┤ H ├┤M├\n",
       "       └───┘└╥┘\n",
       "bit: 1/══════╩═\n",
       "             0 "
      ]
     },
     "execution_count": 63,
     "metadata": {},
     "output_type": "execute_result"
    }
   ],
   "source": [
    "import qiskit as q\n",
    "import numpy as np\n",
    "import matplotlib.pyplot as plt\n",
    "\n",
    "# initialize qubit\n",
    "\n",
    "qubit = q.QuantumRegister(1, \"qubit\")\n",
    "bit = q.ClassicalRegister(1, \"bit\")\n",
    "\n",
    "# create circuit\n",
    "\n",
    "circuit = q.QuantumCircuit(qubit, bit)\n",
    "circuit.h(qubit)\n",
    "circuit.measure(qubit, bit)\n",
    "circuit.draw()"
   ]
  },
  {
   "cell_type": "code",
   "execution_count": 64,
   "metadata": {},
   "outputs": [
    {
     "name": "stdout",
     "output_type": "stream",
     "text": [
      "{'0': 50, '1': 50}\n"
     ]
    }
   ],
   "source": [
    "# simulation\n",
    "\n",
    "backend = q.Aer.get_backend(\"qasm_simulator\")\n",
    "job = q.execute(experiments = circuit, backend = backend, shots = 100)\n",
    "res = job.result()\n",
    "prob = res.get_counts(circuit)\n",
    "print(prob)"
   ]
  },
  {
   "attachments": {},
   "cell_type": "markdown",
   "metadata": {},
   "source": [
    "# Task 2 - quantum prisoner dilemma"
   ]
  },
  {
   "cell_type": "code",
   "execution_count": 65,
   "metadata": {},
   "outputs": [
    {
     "data": {
      "text/html": [
       "<pre style=\"word-wrap: normal;white-space: pre;background: #fff0;line-height: 1.1;font-family: &quot;Courier New&quot;,Courier,monospace\">         ┌────┐┌─────────────┐┌─────────────┐┌───────────┐┌─┐   \n",
       "qubit_0: ┤0   ├┤0            ├┤0            ├┤0          ├┤M├───\n",
       "         │  J ││  1 decision ││  2 decision ││  J_dagger │└╥┘┌─┐\n",
       "qubit_1: ┤1   ├┤1            ├┤1            ├┤1          ├─╫─┤M├\n",
       "         └────┘└─────────────┘└─────────────┘└───────────┘ ║ └╥┘\n",
       "  bit: 2/══════════════════════════════════════════════════╩══╩═\n",
       "                                                           0  1 </pre>"
      ],
      "text/plain": [
       "         ┌────┐┌─────────────┐┌─────────────┐┌───────────┐┌─┐   \n",
       "qubit_0: ┤0   ├┤0            ├┤0            ├┤0          ├┤M├───\n",
       "         │  J ││  1 decision ││  2 decision ││  J_dagger │└╥┘┌─┐\n",
       "qubit_1: ┤1   ├┤1            ├┤1            ├┤1          ├─╫─┤M├\n",
       "         └────┘└─────────────┘└─────────────┘└───────────┘ ║ └╥┘\n",
       "  bit: 2/══════════════════════════════════════════════════╩══╩═\n",
       "                                                           0  1 "
      ]
     },
     "execution_count": 65,
     "metadata": {},
     "output_type": "execute_result"
    }
   ],
   "source": [
    "from scipy.linalg import expm\n",
    "import numpy as np\n",
    "\n",
    "# create custom gates\n",
    "\n",
    "D = np.array([[0, 1], [-1, 0]])\n",
    "Q = np.array([[1j, 0], [0, -1j]])\n",
    "\n",
    "def J(gamma = 1):\n",
    "    matrix = -1j*gamma * np.kron(D, D) / 2\n",
    "    return q.extensions.UnitaryGate(expm(matrix), label = \"J\")\n",
    "\n",
    "def J_dagger(gamma = 1):\n",
    "    matrix = -1j*gamma * np.kron(D, D) / 2\n",
    "    matrix = np.transpose(matrix)\n",
    "    matrix = np.conjugate(matrix)\n",
    "    return q.extensions.UnitaryGate(expm(matrix), label = \"J_dagger\")\n",
    "\n",
    "gamma = 1\n",
    "strategy_1 = D\n",
    "strategy_2 = D\n",
    "\n",
    "qubits = q.QuantumRegister(2, \"qubit\")\n",
    "bits = q.ClassicalRegister(2, \"bit\")\n",
    "\n",
    "circ = q.QuantumCircuit(qubits, bits)\n",
    "circ.append(J(gamma), qubits)\n",
    "\n",
    "gate_1 = q.extensions.UnitaryGate(np.kron(strategy_1, np.eye(2)), label = \"1 decision\")\n",
    "circ.append(gate_1, qubits)\n",
    "\n",
    "gate_2 = q.extensions.UnitaryGate(np.kron(np.eye(2), strategy_1), label = \"2 decision\")\n",
    "circ.append(gate_2, qubits)\n",
    "\n",
    "circ.append(J_dagger(gamma), qubits)\n",
    "circ.measure(qubits, bits)\n",
    "circ.draw()"
   ]
  },
  {
   "cell_type": "code",
   "execution_count": 88,
   "metadata": {},
   "outputs": [
    {
     "data": {
      "image/png": "[encoded data removed]",
      "text/plain": [
       "<Figure size 640x480 with 1 Axes>"
      ]
     },
     "metadata": {},
     "output_type": "display_data"
    }
   ],
   "source": [
    "# build circuit\n",
    "\n",
    "def experiment(gamma = 1, strategy_1 = D, strategy_2 = D):\n",
    "\n",
    "    qubits = q.QuantumRegister(2, \"qubit\")\n",
    "    bits = q.ClassicalRegister(2, \"bit\")\n",
    "\n",
    "    circ = q.QuantumCircuit(qubits, bits)\n",
    "    circ.append(J(gamma), qubits)\n",
    "    gate = q.extensions.UnitaryGate(np.kron(strategy_1, strategy_2))\n",
    "    circ.append(gate, qubits)\n",
    "    circ.append(J_dagger(gamma), qubits)\n",
    "    \n",
    "    backend = q.Aer.get_backend(\"statevector_simulator\")\n",
    "    job = q.execute(circ, backend)\n",
    "    res = job.result()\n",
    "    psi = res.get_statevector()\n",
    "    psi = np.asarray(psi)\n",
    "    psi = psi.flatten()\n",
    "\n",
    "    amplitudes = []\n",
    "    for p in psi:\n",
    "        amplitudes.append(p*np.conjugate(p))\n",
    "\n",
    "    return np.real(np.array(amplitudes)) \n",
    "\n",
    "# pay offs\n",
    "\n",
    "payoff = np.array([3, 0, 5, 1])\n",
    "\n",
    "def money(gamma, strat_1, strat_2):\n",
    "    return np.dot(payoff, experiment(gamma, strat_1, strat_2))\n",
    "\n",
    "# simulation\n",
    "\n",
    "gammas = np.linspace(0, np.pi/2, 200)\n",
    "\n",
    "DD = []\n",
    "for g in gammas:\n",
    "    DD.append(money(g, D, D))\n",
    "\n",
    "DQ = []\n",
    "for g in gammas:\n",
    "    DQ.append(money(g, D, Q))\n",
    "\n",
    "QD = []\n",
    "for g in gammas:\n",
    "    QD.append(money(g, Q, D))\n",
    "\n",
    "QQ = []\n",
    "for g in gammas:\n",
    "    QQ.append(money(g, Q, Q))\n",
    "\n",
    "plt.plot(gammas, DD, color = \"green\")\n",
    "plt.plot(gammas, QD, color = \"darkviolet\")\n",
    "plt.plot(gammas, DQ, color = \"orange\")\n",
    "plt.plot(gammas, QQ, color = \"red\")\n",
    "plt.xlabel(\"gamma\")\n",
    "plt.ylabel(\"Dollars\")\n",
    "plt.title(\"Payoff in function of gamma and strategy\")\n",
    "plt.legend([\"DD\", \"DQ\", \"QD\", \"QQ\"], bbox_to_anchor = [1, 1])\n",
    "plt.show()"
   ]
  }
 ],
 "metadata": {
  "kernelspec": {
   "display_name": "Python 3",
   "language": "python",
   "name": "python3"
  },
  "language_info": {
   "codemirror_mode": {
    "name": "ipython",
    "version": 3
   },
   "file_extension": ".py",
   "mimetype": "text/x-python",
   "name": "python",
   "nbconvert_exporter": "python",
   "pygments_lexer": "ipython3",
   "version": "3.10.10"
  },
  "orig_nbformat": 4
 },
 "nbformat": 4,
 "nbformat_minor": 2
}
